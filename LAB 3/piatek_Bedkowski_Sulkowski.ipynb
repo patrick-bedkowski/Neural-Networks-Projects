{
 "cells": [
  {
   "cell_type": "code",
   "execution_count": 1,
   "outputs": [],
   "source": [
    "import torch\n",
    "from torch import nn as nn\n",
    "import pandas as pd\n",
    "import torch.utils.data as data\n",
    "import numpy as np"
   ],
   "metadata": {
    "collapsed": false,
    "pycharm": {
     "name": "#%%\n"
    }
   }
  },
  {
   "cell_type": "code",
   "execution_count": 2,
   "outputs": [],
   "source": [
    "# GPU operations have a separate seed we also want to set\n",
    "if torch.cuda.is_available():\n",
    "    torch.cuda.manual_seed(42)\n",
    "    torch.cuda.manual_seed_all(42)\n",
    "\n",
    "# Additionally, some operations on a GPU are implemented stochastic for efficiency\n",
    "# We want to ensure that all operations are deterministic on GPU (if used) for reproducibility\n",
    "torch.backends.cudnn.determinstic = True\n",
    "torch.backends.cudnn.benchmark = False"
   ],
   "metadata": {
    "collapsed": false,
    "pycharm": {
     "name": "#%%\n"
    }
   }
  },
  {
   "cell_type": "code",
   "execution_count": 3,
   "outputs": [
    {
     "data": {
      "text/plain": "device(type='cpu')"
     },
     "execution_count": 3,
     "metadata": {},
     "output_type": "execute_result"
    }
   ],
   "source": [
    "device = torch.device(\"cpu\")\n",
    "device"
   ],
   "metadata": {
    "collapsed": false,
    "pycharm": {
     "name": "#%%\n"
    }
   }
  },
  {
   "cell_type": "markdown",
   "source": [
    "## Data preprocessing"
   ],
   "metadata": {
    "collapsed": false,
    "pycharm": {
     "name": "#%% md\n"
    }
   }
  },
  {
   "cell_type": "code",
   "execution_count": 4,
   "outputs": [
    {
     "data": {
      "text/plain": "   instant      dteday  season  yr  mnth  hr  holiday  weekday  workingday  \\\n0        1  2011-01-01       1   0     1   0        0        6           0   \n1        2  2011-01-01       1   0     1   1        0        6           0   \n2        3  2011-01-01       1   0     1   2        0        6           0   \n3        4  2011-01-01       1   0     1   3        0        6           0   \n4        5  2011-01-01       1   0     1   4        0        6           0   \n\n   weathersit  temp   atemp   hum  windspeed  casual  registered  cnt  \n0           1  0.24  0.2879  0.81        0.0       3          13   16  \n1           1  0.22  0.2727  0.80        0.0       8          32   40  \n2           1  0.22  0.2727  0.80        0.0       5          27   32  \n3           1  0.24  0.2879  0.75        0.0       3          10   13  \n4           1  0.24  0.2879  0.75        0.0       0           1    1  ",
      "text/html": "<div>\n<style scoped>\n    .dataframe tbody tr th:only-of-type {\n        vertical-align: middle;\n    }\n\n    .dataframe tbody tr th {\n        vertical-align: top;\n    }\n\n    .dataframe thead th {\n        text-align: right;\n    }\n</style>\n<table border=\"1\" class=\"dataframe\">\n  <thead>\n    <tr style=\"text-align: right;\">\n      <th></th>\n      <th>instant</th>\n      <th>dteday</th>\n      <th>season</th>\n      <th>yr</th>\n      <th>mnth</th>\n      <th>hr</th>\n      <th>holiday</th>\n      <th>weekday</th>\n      <th>workingday</th>\n      <th>weathersit</th>\n      <th>temp</th>\n      <th>atemp</th>\n      <th>hum</th>\n      <th>windspeed</th>\n      <th>casual</th>\n      <th>registered</th>\n      <th>cnt</th>\n    </tr>\n  </thead>\n  <tbody>\n    <tr>\n      <th>0</th>\n      <td>1</td>\n      <td>2011-01-01</td>\n      <td>1</td>\n      <td>0</td>\n      <td>1</td>\n      <td>0</td>\n      <td>0</td>\n      <td>6</td>\n      <td>0</td>\n      <td>1</td>\n      <td>0.24</td>\n      <td>0.2879</td>\n      <td>0.81</td>\n      <td>0.0</td>\n      <td>3</td>\n      <td>13</td>\n      <td>16</td>\n    </tr>\n    <tr>\n      <th>1</th>\n      <td>2</td>\n      <td>2011-01-01</td>\n      <td>1</td>\n      <td>0</td>\n      <td>1</td>\n      <td>1</td>\n      <td>0</td>\n      <td>6</td>\n      <td>0</td>\n      <td>1</td>\n      <td>0.22</td>\n      <td>0.2727</td>\n      <td>0.80</td>\n      <td>0.0</td>\n      <td>8</td>\n      <td>32</td>\n      <td>40</td>\n    </tr>\n    <tr>\n      <th>2</th>\n      <td>3</td>\n      <td>2011-01-01</td>\n      <td>1</td>\n      <td>0</td>\n      <td>1</td>\n      <td>2</td>\n      <td>0</td>\n      <td>6</td>\n      <td>0</td>\n      <td>1</td>\n      <td>0.22</td>\n      <td>0.2727</td>\n      <td>0.80</td>\n      <td>0.0</td>\n      <td>5</td>\n      <td>27</td>\n      <td>32</td>\n    </tr>\n    <tr>\n      <th>3</th>\n      <td>4</td>\n      <td>2011-01-01</td>\n      <td>1</td>\n      <td>0</td>\n      <td>1</td>\n      <td>3</td>\n      <td>0</td>\n      <td>6</td>\n      <td>0</td>\n      <td>1</td>\n      <td>0.24</td>\n      <td>0.2879</td>\n      <td>0.75</td>\n      <td>0.0</td>\n      <td>3</td>\n      <td>10</td>\n      <td>13</td>\n    </tr>\n    <tr>\n      <th>4</th>\n      <td>5</td>\n      <td>2011-01-01</td>\n      <td>1</td>\n      <td>0</td>\n      <td>1</td>\n      <td>4</td>\n      <td>0</td>\n      <td>6</td>\n      <td>0</td>\n      <td>1</td>\n      <td>0.24</td>\n      <td>0.2879</td>\n      <td>0.75</td>\n      <td>0.0</td>\n      <td>0</td>\n      <td>1</td>\n      <td>1</td>\n    </tr>\n  </tbody>\n</table>\n</div>"
     },
     "execution_count": 4,
     "metadata": {},
     "output_type": "execute_result"
    }
   ],
   "source": [
    "data_training = pd.read_csv('data.csv')\n",
    "data_training.head(5)"
   ],
   "metadata": {
    "collapsed": false,
    "pycharm": {
     "name": "#%%\n"
    }
   }
  },
  {
   "cell_type": "code",
   "execution_count": 5,
   "outputs": [
    {
     "data": {
      "text/plain": "       dteday  season  yr  mnth  hr  holiday  weekday  workingday  weathersit  \\\n0  2011-01-20       1   0     1   0        0        4           1           1   \n1  2011-01-20       1   0     1   1        0        4           1           1   \n2  2011-01-20       1   0     1   2        0        4           1           1   \n3  2011-01-20       1   0     1   3        0        4           1           1   \n4  2011-01-20       1   0     1   4        0        4           1           1   \n\n   temp   atemp   hum  windspeed  \n0  0.26  0.2273  0.56     0.3881  \n1  0.26  0.2727  0.56     0.0000  \n2  0.26  0.2727  0.56     0.0000  \n3  0.26  0.2576  0.56     0.1642  \n4  0.26  0.2576  0.56     0.1642  ",
      "text/html": "<div>\n<style scoped>\n    .dataframe tbody tr th:only-of-type {\n        vertical-align: middle;\n    }\n\n    .dataframe tbody tr th {\n        vertical-align: top;\n    }\n\n    .dataframe thead th {\n        text-align: right;\n    }\n</style>\n<table border=\"1\" class=\"dataframe\">\n  <thead>\n    <tr style=\"text-align: right;\">\n      <th></th>\n      <th>dteday</th>\n      <th>season</th>\n      <th>yr</th>\n      <th>mnth</th>\n      <th>hr</th>\n      <th>holiday</th>\n      <th>weekday</th>\n      <th>workingday</th>\n      <th>weathersit</th>\n      <th>temp</th>\n      <th>atemp</th>\n      <th>hum</th>\n      <th>windspeed</th>\n    </tr>\n  </thead>\n  <tbody>\n    <tr>\n      <th>0</th>\n      <td>2011-01-20</td>\n      <td>1</td>\n      <td>0</td>\n      <td>1</td>\n      <td>0</td>\n      <td>0</td>\n      <td>4</td>\n      <td>1</td>\n      <td>1</td>\n      <td>0.26</td>\n      <td>0.2273</td>\n      <td>0.56</td>\n      <td>0.3881</td>\n    </tr>\n    <tr>\n      <th>1</th>\n      <td>2011-01-20</td>\n      <td>1</td>\n      <td>0</td>\n      <td>1</td>\n      <td>1</td>\n      <td>0</td>\n      <td>4</td>\n      <td>1</td>\n      <td>1</td>\n      <td>0.26</td>\n      <td>0.2727</td>\n      <td>0.56</td>\n      <td>0.0000</td>\n    </tr>\n    <tr>\n      <th>2</th>\n      <td>2011-01-20</td>\n      <td>1</td>\n      <td>0</td>\n      <td>1</td>\n      <td>2</td>\n      <td>0</td>\n      <td>4</td>\n      <td>1</td>\n      <td>1</td>\n      <td>0.26</td>\n      <td>0.2727</td>\n      <td>0.56</td>\n      <td>0.0000</td>\n    </tr>\n    <tr>\n      <th>3</th>\n      <td>2011-01-20</td>\n      <td>1</td>\n      <td>0</td>\n      <td>1</td>\n      <td>3</td>\n      <td>0</td>\n      <td>4</td>\n      <td>1</td>\n      <td>1</td>\n      <td>0.26</td>\n      <td>0.2576</td>\n      <td>0.56</td>\n      <td>0.1642</td>\n    </tr>\n    <tr>\n      <th>4</th>\n      <td>2011-01-20</td>\n      <td>1</td>\n      <td>0</td>\n      <td>1</td>\n      <td>4</td>\n      <td>0</td>\n      <td>4</td>\n      <td>1</td>\n      <td>1</td>\n      <td>0.26</td>\n      <td>0.2576</td>\n      <td>0.56</td>\n      <td>0.1642</td>\n    </tr>\n  </tbody>\n</table>\n</div>"
     },
     "execution_count": 5,
     "metadata": {},
     "output_type": "execute_result"
    }
   ],
   "source": [
    "data_test = pd.read_csv('evaluation_data.csv')\n",
    "data_test.head(5)"
   ],
   "metadata": {
    "collapsed": false,
    "pycharm": {
     "name": "#%%\n"
    }
   }
  },
  {
   "cell_type": "markdown",
   "source": [
    "Pozbywamy się następujących kolumn:\n",
    "- _dteday_ ze zbioru treningowego i ewaluacyjnego, ponieważ dni tygodnia są zawarte w innej kolumnie\n",
    "- _instant_, _casual_, _registered_ ze zbioru treningowego, ponieważ te kolumny nie występują w zbiorze ewaluacyjnym"
   ],
   "metadata": {
    "collapsed": false,
    "pycharm": {
     "name": "#%% md\n"
    }
   }
  },
  {
   "cell_type": "code",
   "execution_count": 6,
   "outputs": [],
   "source": [
    "# zakodowac miesiace"
   ],
   "metadata": {
    "collapsed": false,
    "pycharm": {
     "name": "#%%\n"
    }
   }
  },
  {
   "cell_type": "code",
   "execution_count": 7,
   "outputs": [],
   "source": [
    "# dropping unnecessary data\n",
    "data_training.drop(columns=['instant', 'casual', 'registered', 'dteday'], inplace=True)\n",
    "data_test.drop(columns=['dteday'], inplace=True)"
   ],
   "metadata": {
    "collapsed": false,
    "pycharm": {
     "name": "#%%\n"
    }
   }
  },
  {
   "cell_type": "code",
   "execution_count": 8,
   "outputs": [
    {
     "data": {
      "text/plain": "             season            yr          mnth            hr       holiday  \\\ncount  10886.000000  10886.000000  10886.000000  10886.000000  10886.000000   \nmean       2.506614      0.501929      6.521495     11.541613      0.028569   \nstd        1.116174      0.500019      3.444373      6.915838      0.166599   \nmin        1.000000      0.000000      1.000000      0.000000      0.000000   \n25%        2.000000      0.000000      4.000000      6.000000      0.000000   \n50%        3.000000      1.000000      7.000000     12.000000      0.000000   \n75%        4.000000      1.000000     10.000000     18.000000      0.000000   \nmax        4.000000      1.000000     12.000000     23.000000      1.000000   \n\n            weekday    workingday    weathersit          temp         atemp  \\\ncount  10886.000000  10886.000000  10886.000000  10886.000000  10886.000000   \nmean       2.998622      0.680875      1.418427      0.493436      0.473102   \nstd        2.007770      0.466159      0.633839      0.190039      0.169492   \nmin        0.000000      0.000000      1.000000      0.020000      0.015200   \n25%        1.000000      0.000000      1.000000      0.340000      0.333300   \n50%        3.000000      1.000000      1.000000      0.500000      0.484800   \n75%        5.000000      1.000000      2.000000      0.640000      0.621200   \nmax        6.000000      1.000000      4.000000      1.000000      0.909100   \n\n                hum     windspeed           cnt  \ncount  10886.000000  10886.000000  10886.000000  \nmean       0.618865      0.191036    191.574132  \nstd        0.192450      0.121859    181.144454  \nmin        0.000000      0.000000      1.000000  \n25%        0.470000      0.104500     42.000000  \n50%        0.620000      0.194000    145.000000  \n75%        0.770000      0.253700    284.000000  \nmax        1.000000      0.850700    977.000000  ",
      "text/html": "<div>\n<style scoped>\n    .dataframe tbody tr th:only-of-type {\n        vertical-align: middle;\n    }\n\n    .dataframe tbody tr th {\n        vertical-align: top;\n    }\n\n    .dataframe thead th {\n        text-align: right;\n    }\n</style>\n<table border=\"1\" class=\"dataframe\">\n  <thead>\n    <tr style=\"text-align: right;\">\n      <th></th>\n      <th>season</th>\n      <th>yr</th>\n      <th>mnth</th>\n      <th>hr</th>\n      <th>holiday</th>\n      <th>weekday</th>\n      <th>workingday</th>\n      <th>weathersit</th>\n      <th>temp</th>\n      <th>atemp</th>\n      <th>hum</th>\n      <th>windspeed</th>\n      <th>cnt</th>\n    </tr>\n  </thead>\n  <tbody>\n    <tr>\n      <th>count</th>\n      <td>10886.000000</td>\n      <td>10886.000000</td>\n      <td>10886.000000</td>\n      <td>10886.000000</td>\n      <td>10886.000000</td>\n      <td>10886.000000</td>\n      <td>10886.000000</td>\n      <td>10886.000000</td>\n      <td>10886.000000</td>\n      <td>10886.000000</td>\n      <td>10886.000000</td>\n      <td>10886.000000</td>\n      <td>10886.000000</td>\n    </tr>\n    <tr>\n      <th>mean</th>\n      <td>2.506614</td>\n      <td>0.501929</td>\n      <td>6.521495</td>\n      <td>11.541613</td>\n      <td>0.028569</td>\n      <td>2.998622</td>\n      <td>0.680875</td>\n      <td>1.418427</td>\n      <td>0.493436</td>\n      <td>0.473102</td>\n      <td>0.618865</td>\n      <td>0.191036</td>\n      <td>191.574132</td>\n    </tr>\n    <tr>\n      <th>std</th>\n      <td>1.116174</td>\n      <td>0.500019</td>\n      <td>3.444373</td>\n      <td>6.915838</td>\n      <td>0.166599</td>\n      <td>2.007770</td>\n      <td>0.466159</td>\n      <td>0.633839</td>\n      <td>0.190039</td>\n      <td>0.169492</td>\n      <td>0.192450</td>\n      <td>0.121859</td>\n      <td>181.144454</td>\n    </tr>\n    <tr>\n      <th>min</th>\n      <td>1.000000</td>\n      <td>0.000000</td>\n      <td>1.000000</td>\n      <td>0.000000</td>\n      <td>0.000000</td>\n      <td>0.000000</td>\n      <td>0.000000</td>\n      <td>1.000000</td>\n      <td>0.020000</td>\n      <td>0.015200</td>\n      <td>0.000000</td>\n      <td>0.000000</td>\n      <td>1.000000</td>\n    </tr>\n    <tr>\n      <th>25%</th>\n      <td>2.000000</td>\n      <td>0.000000</td>\n      <td>4.000000</td>\n      <td>6.000000</td>\n      <td>0.000000</td>\n      <td>1.000000</td>\n      <td>0.000000</td>\n      <td>1.000000</td>\n      <td>0.340000</td>\n      <td>0.333300</td>\n      <td>0.470000</td>\n      <td>0.104500</td>\n      <td>42.000000</td>\n    </tr>\n    <tr>\n      <th>50%</th>\n      <td>3.000000</td>\n      <td>1.000000</td>\n      <td>7.000000</td>\n      <td>12.000000</td>\n      <td>0.000000</td>\n      <td>3.000000</td>\n      <td>1.000000</td>\n      <td>1.000000</td>\n      <td>0.500000</td>\n      <td>0.484800</td>\n      <td>0.620000</td>\n      <td>0.194000</td>\n      <td>145.000000</td>\n    </tr>\n    <tr>\n      <th>75%</th>\n      <td>4.000000</td>\n      <td>1.000000</td>\n      <td>10.000000</td>\n      <td>18.000000</td>\n      <td>0.000000</td>\n      <td>5.000000</td>\n      <td>1.000000</td>\n      <td>2.000000</td>\n      <td>0.640000</td>\n      <td>0.621200</td>\n      <td>0.770000</td>\n      <td>0.253700</td>\n      <td>284.000000</td>\n    </tr>\n    <tr>\n      <th>max</th>\n      <td>4.000000</td>\n      <td>1.000000</td>\n      <td>12.000000</td>\n      <td>23.000000</td>\n      <td>1.000000</td>\n      <td>6.000000</td>\n      <td>1.000000</td>\n      <td>4.000000</td>\n      <td>1.000000</td>\n      <td>0.909100</td>\n      <td>1.000000</td>\n      <td>0.850700</td>\n      <td>977.000000</td>\n    </tr>\n  </tbody>\n</table>\n</div>"
     },
     "execution_count": 8,
     "metadata": {},
     "output_type": "execute_result"
    }
   ],
   "source": [
    "data_training.describe()"
   ],
   "metadata": {
    "collapsed": false,
    "pycharm": {
     "name": "#%%\n"
    }
   }
  },
  {
   "cell_type": "code",
   "execution_count": 9,
   "outputs": [
    {
     "data": {
      "text/plain": "            season           yr         mnth           hr      holiday  \\\ncount  6493.000000  6493.000000  6493.000000  6493.000000  6493.000000   \nmean      2.493300     0.503619     6.565070    11.555367     0.029108   \nstd       1.091258     0.500025     3.429462     6.912526     0.168123   \nmin       1.000000     0.000000     1.000000     0.000000     0.000000   \n25%       2.000000     0.000000     4.000000     6.000000     0.000000   \n50%       3.000000     1.000000     7.000000    12.000000     0.000000   \n75%       3.000000     1.000000    10.000000    18.000000     0.000000   \nmax       4.000000     1.000000    12.000000    23.000000     1.000000   \n\n           weekday   workingday   weathersit         temp        atemp  \\\ncount  6493.000000  6493.000000  6493.000000  6493.000000  6493.000000   \nmean      3.012167     0.685815     1.436778     0.502942     0.480257   \nstd       2.002541     0.464226     0.648390     0.196575     0.175655   \nmin       0.000000     0.000000     1.000000     0.020000     0.000000   \n25%       1.000000     0.000000     1.000000     0.340000     0.333300   \n50%       3.000000     1.000000     1.000000     0.520000     0.500000   \n75%       5.000000     1.000000     2.000000     0.660000     0.621200   \nmax       6.000000     1.000000     4.000000     0.980000     1.000000   \n\n               hum    windspeed  \ncount  6493.000000  6493.000000  \nmean      0.641252     0.188525  \nstd       0.192934     0.123137  \nmin       0.160000     0.000000  \n25%       0.490000     0.104500  \n50%       0.650000     0.164200  \n75%       0.810000     0.253700  \nmax       1.000000     0.835800  ",
      "text/html": "<div>\n<style scoped>\n    .dataframe tbody tr th:only-of-type {\n        vertical-align: middle;\n    }\n\n    .dataframe tbody tr th {\n        vertical-align: top;\n    }\n\n    .dataframe thead th {\n        text-align: right;\n    }\n</style>\n<table border=\"1\" class=\"dataframe\">\n  <thead>\n    <tr style=\"text-align: right;\">\n      <th></th>\n      <th>season</th>\n      <th>yr</th>\n      <th>mnth</th>\n      <th>hr</th>\n      <th>holiday</th>\n      <th>weekday</th>\n      <th>workingday</th>\n      <th>weathersit</th>\n      <th>temp</th>\n      <th>atemp</th>\n      <th>hum</th>\n      <th>windspeed</th>\n    </tr>\n  </thead>\n  <tbody>\n    <tr>\n      <th>count</th>\n      <td>6493.000000</td>\n      <td>6493.000000</td>\n      <td>6493.000000</td>\n      <td>6493.000000</td>\n      <td>6493.000000</td>\n      <td>6493.000000</td>\n      <td>6493.000000</td>\n      <td>6493.000000</td>\n      <td>6493.000000</td>\n      <td>6493.000000</td>\n      <td>6493.000000</td>\n      <td>6493.000000</td>\n    </tr>\n    <tr>\n      <th>mean</th>\n      <td>2.493300</td>\n      <td>0.503619</td>\n      <td>6.565070</td>\n      <td>11.555367</td>\n      <td>0.029108</td>\n      <td>3.012167</td>\n      <td>0.685815</td>\n      <td>1.436778</td>\n      <td>0.502942</td>\n      <td>0.480257</td>\n      <td>0.641252</td>\n      <td>0.188525</td>\n    </tr>\n    <tr>\n      <th>std</th>\n      <td>1.091258</td>\n      <td>0.500025</td>\n      <td>3.429462</td>\n      <td>6.912526</td>\n      <td>0.168123</td>\n      <td>2.002541</td>\n      <td>0.464226</td>\n      <td>0.648390</td>\n      <td>0.196575</td>\n      <td>0.175655</td>\n      <td>0.192934</td>\n      <td>0.123137</td>\n    </tr>\n    <tr>\n      <th>min</th>\n      <td>1.000000</td>\n      <td>0.000000</td>\n      <td>1.000000</td>\n      <td>0.000000</td>\n      <td>0.000000</td>\n      <td>0.000000</td>\n      <td>0.000000</td>\n      <td>1.000000</td>\n      <td>0.020000</td>\n      <td>0.000000</td>\n      <td>0.160000</td>\n      <td>0.000000</td>\n    </tr>\n    <tr>\n      <th>25%</th>\n      <td>2.000000</td>\n      <td>0.000000</td>\n      <td>4.000000</td>\n      <td>6.000000</td>\n      <td>0.000000</td>\n      <td>1.000000</td>\n      <td>0.000000</td>\n      <td>1.000000</td>\n      <td>0.340000</td>\n      <td>0.333300</td>\n      <td>0.490000</td>\n      <td>0.104500</td>\n    </tr>\n    <tr>\n      <th>50%</th>\n      <td>3.000000</td>\n      <td>1.000000</td>\n      <td>7.000000</td>\n      <td>12.000000</td>\n      <td>0.000000</td>\n      <td>3.000000</td>\n      <td>1.000000</td>\n      <td>1.000000</td>\n      <td>0.520000</td>\n      <td>0.500000</td>\n      <td>0.650000</td>\n      <td>0.164200</td>\n    </tr>\n    <tr>\n      <th>75%</th>\n      <td>3.000000</td>\n      <td>1.000000</td>\n      <td>10.000000</td>\n      <td>18.000000</td>\n      <td>0.000000</td>\n      <td>5.000000</td>\n      <td>1.000000</td>\n      <td>2.000000</td>\n      <td>0.660000</td>\n      <td>0.621200</td>\n      <td>0.810000</td>\n      <td>0.253700</td>\n    </tr>\n    <tr>\n      <th>max</th>\n      <td>4.000000</td>\n      <td>1.000000</td>\n      <td>12.000000</td>\n      <td>23.000000</td>\n      <td>1.000000</td>\n      <td>6.000000</td>\n      <td>1.000000</td>\n      <td>4.000000</td>\n      <td>0.980000</td>\n      <td>1.000000</td>\n      <td>1.000000</td>\n      <td>0.835800</td>\n    </tr>\n  </tbody>\n</table>\n</div>"
     },
     "execution_count": 9,
     "metadata": {},
     "output_type": "execute_result"
    }
   ],
   "source": [
    "data_test.describe()"
   ],
   "metadata": {
    "collapsed": false,
    "pycharm": {
     "name": "#%%\n"
    }
   }
  },
  {
   "cell_type": "code",
   "execution_count": 10,
   "outputs": [],
   "source": [
    "def normalize_columns(df):\n",
    "    for column in df.columns:\n",
    "        df[column] = (df[column] - df[column].mean())/df[column].var()\n",
    "    return df"
   ],
   "metadata": {
    "collapsed": false,
    "pycharm": {
     "name": "#%%\n"
    }
   }
  },
  {
   "cell_type": "markdown",
   "source": [
    "## Splitting dataset into training and testing"
   ],
   "metadata": {
    "collapsed": false,
    "pycharm": {
     "name": "#%% md\n"
    }
   }
  },
  {
   "cell_type": "code",
   "execution_count": 11,
   "outputs": [],
   "source": [
    "X = data_training.iloc[:, :-1]\n",
    "y = data_training.iloc[:, -1]"
   ],
   "metadata": {
    "collapsed": false,
    "pycharm": {
     "name": "#%%\n"
    }
   }
  },
  {
   "cell_type": "code",
   "execution_count": 12,
   "outputs": [],
   "source": [
    "X_norm = normalize_columns(X)"
   ],
   "metadata": {
    "collapsed": false,
    "pycharm": {
     "name": "#%%\n"
    }
   }
  },
  {
   "cell_type": "code",
   "execution_count": 13,
   "outputs": [],
   "source": [
    "from sklearn.model_selection import train_test_split\n",
    "\n",
    "X_train, X_validation, y_train, y_validation = train_test_split(X_norm, y,\n",
    "                                                                test_size=0.20,\n",
    "                                                                random_state=13)"
   ],
   "metadata": {
    "collapsed": false,
    "pycharm": {
     "name": "#%%\n"
    }
   }
  },
  {
   "cell_type": "markdown",
   "source": [
    "# Architektura sieci"
   ],
   "metadata": {
    "collapsed": false,
    "pycharm": {
     "name": "#%% md\n"
    }
   }
  },
  {
   "cell_type": "code",
   "execution_count": 14,
   "outputs": [],
   "source": [
    "class NeuralNetwork(nn.Module):\n",
    "    def __init__(self, num_inputs, num_outputs, num_hidden_1, num_hidden_2):\n",
    "        super().__init__()\n",
    "        self.linear1 = nn.Linear(num_inputs, num_hidden_1)\n",
    "        self.act_fn_1 = nn.ReLU()\n",
    "        self.linear2 = nn.Linear(num_hidden_1, num_hidden_2)\n",
    "        self.act_fn_2 = nn.ReLU()\n",
    "        self.linear3 = nn.Linear(num_hidden_2, num_outputs)\n",
    "        self.out = nn.ReLU()\n",
    "\n",
    "    def forward(self, x):\n",
    "        x = self.linear1(x)\n",
    "        x = self.act_fn_1(x)\n",
    "        x = self.linear2(x)\n",
    "        x = self.act_fn_2(x)\n",
    "        x = self.linear3(x)\n",
    "        x = self.out(x)\n",
    "        return x"
   ],
   "metadata": {
    "collapsed": false,
    "pycharm": {
     "name": "#%%\n"
    }
   }
  },
  {
   "cell_type": "markdown",
   "source": [
    "### Model definition"
   ],
   "metadata": {
    "collapsed": false,
    "pycharm": {
     "name": "#%% md\n"
    }
   }
  },
  {
   "cell_type": "code",
   "execution_count": 15,
   "outputs": [],
   "source": [
    "N_INPUTS = len(X_train.columns)\n",
    "N_OUTPUTS = 1\n",
    "N_HIDDEN_1 = 64\n",
    "N_HIDDEN_2 = 100\n",
    "BATCH_SIZE = 512\n",
    "model = NeuralNetwork(N_INPUTS, N_OUTPUTS, N_HIDDEN_1, N_HIDDEN_2)"
   ],
   "metadata": {
    "collapsed": false,
    "pycharm": {
     "name": "#%%\n"
    }
   }
  },
  {
   "cell_type": "code",
   "execution_count": 16,
   "outputs": [],
   "source": [
    "learning_rate = 0.05\n",
    "EPOCHS = 50"
   ],
   "metadata": {
    "collapsed": false,
    "pycharm": {
     "name": "#%%\n"
    }
   }
  },
  {
   "cell_type": "code",
   "execution_count": 17,
   "outputs": [],
   "source": [
    "model.to(device)\n",
    "optimizer = torch.optim.Adam(model.parameters(), lr=learning_rate)\n",
    "loss_module = nn.MSELoss()"
   ],
   "metadata": {
    "collapsed": false,
    "pycharm": {
     "name": "#%%\n"
    }
   }
  },
  {
   "cell_type": "code",
   "execution_count": 18,
   "outputs": [],
   "source": [
    "from torch.utils.data import TensorDataset, DataLoader\n",
    "\n",
    "tensor_x = torch.Tensor(X_train.values)\n",
    "tensor_y = torch.Tensor(y_train.values)\n",
    "\n",
    "my_dataset = TensorDataset(tensor_x,tensor_y)\n",
    "train_data_loader = DataLoader(my_dataset)"
   ],
   "metadata": {
    "collapsed": false,
    "pycharm": {
     "name": "#%%\n"
    }
   }
  },
  {
   "cell_type": "code",
   "execution_count": null,
   "outputs": [],
   "source": [
    "model.train()\n",
    "for epoch in range(EPOCHS):\n",
    "    for data_inputs, data_labels in train_data_loader:\n",
    "        data_inputs = data_inputs.to(device)\n",
    "        data_labels = data_labels.to(device)\n",
    "\n",
    "        preds = model(data_inputs.float())\n",
    "        preds = preds.squeeze(dim=1)\n",
    "\n",
    "        loss = loss_module(preds, data_labels.float())\n",
    "\n",
    "        optimizer.zero_grad()\n",
    "        loss.backward()\n",
    "\n",
    "        optimizer.step()\n",
    "    if epoch % 2 == 1:\n",
    "        print(f\"Epoch: {epoch}, loss: {loss.item():.4}\")"
   ],
   "metadata": {
    "collapsed": false,
    "pycharm": {
     "name": "#%%\n",
     "is_executing": true
    }
   }
  },
  {
   "cell_type": "markdown",
   "source": [],
   "metadata": {
    "collapsed": false,
    "pycharm": {
     "name": "#%% md\n"
    }
   }
  },
  {
   "cell_type": "markdown",
   "source": [
    "### Validation dataset"
   ],
   "metadata": {
    "collapsed": false,
    "pycharm": {
     "name": "#%% md\n"
    }
   }
  },
  {
   "cell_type": "code",
   "execution_count": null,
   "outputs": [],
   "source": [
    "validation_data_loader = data.TensorDataset(\n",
    "    torch.from_numpy(X_validation.values).float(),\n",
    "    torch.from_numpy(y_validation.values).float())"
   ],
   "metadata": {
    "collapsed": false,
    "pycharm": {
     "name": "#%%\n"
    }
   }
  },
  {
   "cell_type": "code",
   "execution_count": null,
   "outputs": [],
   "source": [
    "def rmsle(y_true,y_pred):\n",
    "    n = len(y_true)\n",
    "    msle = np.mean([(np.log(max(y_pred[i],0) + 1) - np.log(y_true[i] + 1)) ** 2.0 for i in range(n)])\n",
    "    return np.sqrt(msle)"
   ],
   "metadata": {
    "collapsed": false,
    "pycharm": {
     "name": "#%%\n"
    }
   }
  },
  {
   "cell_type": "code",
   "execution_count": null,
   "outputs": [],
   "source": [
    "model.eval()\n",
    "preds_list = []\n",
    "with torch.no_grad():\n",
    "    for data_inputs, data_target in validation_data_loader:\n",
    "        data_inputs = data_inputs.to(device)\n",
    "        preds = model(data_inputs.float())\n",
    "        preds_cp = preds.cpu()\n",
    "        preds_list.append(float(preds_cp))"
   ],
   "metadata": {
    "collapsed": false,
    "pycharm": {
     "name": "#%%\n"
    }
   }
  },
  {
   "cell_type": "code",
   "execution_count": null,
   "outputs": [],
   "source": [
    "rmsle(y_validation.values, preds_list)"
   ],
   "metadata": {
    "collapsed": false,
    "pycharm": {
     "name": "#%%\n"
    }
   }
  },
  {
   "cell_type": "markdown",
   "source": [
    "# Producing predictions"
   ],
   "metadata": {
    "collapsed": false,
    "pycharm": {
     "name": "#%% md\n"
    }
   }
  },
  {
   "cell_type": "code",
   "execution_count": 24,
   "outputs": [],
   "source": [
    "df_eval = pd.read_csv(\"evaluation_data.csv\")"
   ],
   "metadata": {
    "collapsed": false,
    "pycharm": {
     "name": "#%%\n"
    }
   }
  },
  {
   "cell_type": "code",
   "execution_count": 25,
   "outputs": [
    {
     "data": {
      "text/plain": "       dteday  season  yr  mnth  hr  holiday  weekday  workingday  weathersit  \\\n0  2011-01-20       1   0     1   0        0        4           1           1   \n1  2011-01-20       1   0     1   1        0        4           1           1   \n2  2011-01-20       1   0     1   2        0        4           1           1   \n3  2011-01-20       1   0     1   3        0        4           1           1   \n4  2011-01-20       1   0     1   4        0        4           1           1   \n\n   temp   atemp   hum  windspeed  \n0  0.26  0.2273  0.56     0.3881  \n1  0.26  0.2727  0.56     0.0000  \n2  0.26  0.2727  0.56     0.0000  \n3  0.26  0.2576  0.56     0.1642  \n4  0.26  0.2576  0.56     0.1642  ",
      "text/html": "<div>\n<style scoped>\n    .dataframe tbody tr th:only-of-type {\n        vertical-align: middle;\n    }\n\n    .dataframe tbody tr th {\n        vertical-align: top;\n    }\n\n    .dataframe thead th {\n        text-align: right;\n    }\n</style>\n<table border=\"1\" class=\"dataframe\">\n  <thead>\n    <tr style=\"text-align: right;\">\n      <th></th>\n      <th>dteday</th>\n      <th>season</th>\n      <th>yr</th>\n      <th>mnth</th>\n      <th>hr</th>\n      <th>holiday</th>\n      <th>weekday</th>\n      <th>workingday</th>\n      <th>weathersit</th>\n      <th>temp</th>\n      <th>atemp</th>\n      <th>hum</th>\n      <th>windspeed</th>\n    </tr>\n  </thead>\n  <tbody>\n    <tr>\n      <th>0</th>\n      <td>2011-01-20</td>\n      <td>1</td>\n      <td>0</td>\n      <td>1</td>\n      <td>0</td>\n      <td>0</td>\n      <td>4</td>\n      <td>1</td>\n      <td>1</td>\n      <td>0.26</td>\n      <td>0.2273</td>\n      <td>0.56</td>\n      <td>0.3881</td>\n    </tr>\n    <tr>\n      <th>1</th>\n      <td>2011-01-20</td>\n      <td>1</td>\n      <td>0</td>\n      <td>1</td>\n      <td>1</td>\n      <td>0</td>\n      <td>4</td>\n      <td>1</td>\n      <td>1</td>\n      <td>0.26</td>\n      <td>0.2727</td>\n      <td>0.56</td>\n      <td>0.0000</td>\n    </tr>\n    <tr>\n      <th>2</th>\n      <td>2011-01-20</td>\n      <td>1</td>\n      <td>0</td>\n      <td>1</td>\n      <td>2</td>\n      <td>0</td>\n      <td>4</td>\n      <td>1</td>\n      <td>1</td>\n      <td>0.26</td>\n      <td>0.2727</td>\n      <td>0.56</td>\n      <td>0.0000</td>\n    </tr>\n    <tr>\n      <th>3</th>\n      <td>2011-01-20</td>\n      <td>1</td>\n      <td>0</td>\n      <td>1</td>\n      <td>3</td>\n      <td>0</td>\n      <td>4</td>\n      <td>1</td>\n      <td>1</td>\n      <td>0.26</td>\n      <td>0.2576</td>\n      <td>0.56</td>\n      <td>0.1642</td>\n    </tr>\n    <tr>\n      <th>4</th>\n      <td>2011-01-20</td>\n      <td>1</td>\n      <td>0</td>\n      <td>1</td>\n      <td>4</td>\n      <td>0</td>\n      <td>4</td>\n      <td>1</td>\n      <td>1</td>\n      <td>0.26</td>\n      <td>0.2576</td>\n      <td>0.56</td>\n      <td>0.1642</td>\n    </tr>\n  </tbody>\n</table>\n</div>"
     },
     "execution_count": 25,
     "metadata": {},
     "output_type": "execute_result"
    }
   ],
   "source": [
    "df_eval.head()"
   ],
   "metadata": {
    "collapsed": false,
    "pycharm": {
     "name": "#%%\n"
    }
   }
  },
  {
   "cell_type": "code",
   "execution_count": 26,
   "outputs": [],
   "source": [
    "df_eval.drop(columns=['dteday'], inplace=True)"
   ],
   "metadata": {
    "collapsed": false,
    "pycharm": {
     "name": "#%%\n"
    }
   }
  },
  {
   "cell_type": "code",
   "execution_count": 27,
   "outputs": [
    {
     "data": {
      "text/plain": "(tensor([1.0000, 0.0000, 1.0000, 0.0000, 0.0000, 4.0000, 1.0000, 1.0000, 0.2600,\n         0.2273, 0.5600, 0.3881]),)"
     },
     "execution_count": 27,
     "metadata": {},
     "output_type": "execute_result"
    }
   ],
   "source": [
    "eval_dataset = data.TensorDataset(torch.from_numpy(df_eval.values).float())\n",
    "next(iter(eval_dataset))"
   ],
   "metadata": {
    "collapsed": false,
    "pycharm": {
     "name": "#%%\n"
    }
   }
  },
  {
   "cell_type": "code",
   "execution_count": 28,
   "outputs": [],
   "source": [
    "model.eval()\n",
    "\n",
    "eval_list = []\n",
    "with torch.no_grad():\n",
    "    for data_input_test in eval_dataset:\n",
    "        data_input_test = data_input_test[0].to(device)\n",
    "        preds_val = model(data_input_test.float())\n",
    "        preds_val = preds_val.cpu()\n",
    "        eval_list.append(float(preds_val))"
   ],
   "metadata": {
    "collapsed": false,
    "pycharm": {
     "name": "#%%\n"
    }
   }
  },
  {
   "cell_type": "code",
   "execution_count": 29,
   "outputs": [],
   "source": [
    "df_pred = pd.DataFrame(eval_list)"
   ],
   "metadata": {
    "collapsed": false,
    "pycharm": {
     "name": "#%%\n"
    }
   }
  },
  {
   "cell_type": "code",
   "execution_count": 32,
   "outputs": [],
   "source": [
    "df_pred.to_csv(\"piatek_Bedkowski_Sulkowski.csv\", index=False)"
   ],
   "metadata": {
    "collapsed": false,
    "pycharm": {
     "name": "#%%\n"
    }
   }
  },
  {
   "cell_type": "markdown",
   "source": [],
   "metadata": {
    "collapsed": false,
    "pycharm": {
     "name": "#%% md\n"
    }
   }
  }
 ],
 "metadata": {
  "kernelspec": {
   "display_name": "Python 3",
   "language": "python",
   "name": "python3"
  },
  "language_info": {
   "codemirror_mode": {
    "name": "ipython",
    "version": 2
   },
   "file_extension": ".py",
   "mimetype": "text/x-python",
   "name": "python",
   "nbconvert_exporter": "python",
   "pygments_lexer": "ipython2",
   "version": "2.7.6"
  }
 },
 "nbformat": 4,
 "nbformat_minor": 0
}