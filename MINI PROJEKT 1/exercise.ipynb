{
 "cells": [
  {
   "cell_type": "markdown",
   "source": [
    "### Instrukcje\n",
    "Załóżmy, że chcemy kupić mieszkanie. Do dyspozycji mamy 100 000 dolarów, możemy też wziąć kredyt na kolejne 250 tysięcy, co da nam w sumie budżet w wysokości 350 000 dolarów. Stwórzmy model który pomoże nam przewidzieć, czy mieszkanie o pewnych, zadanych parametrach, możemy kupić za własne pieniądze (cheap), z kredytem (average), czy jest poza naszym zasięgiem (expensive).\n",
    "\n",
    "W oparciu o dostępne atrybuty zbuduj model, który pomoże oszacować, czy dana nieruchomość należy do klasy cheap, average czy expensive. Do dyspozycji mają Państwo dane treningowe (train_data.csv) z oryginalnymi cenami nieruchomości (SalePrice), oraz, tak jak ostatnio, zbiór testowy (test_data.csv)."
   ],
   "metadata": {
    "collapsed": false,
    "pycharm": {
     "name": "#%% md\n"
    }
   }
  },
  {
   "cell_type": "markdown",
   "source": [
    "UWAGA Proszę dokładnie zastosować się do poniższej instrukcji\n",
    "W ramach rozwiązania, proszę oddać poprzez Teamsy plik - archiwum .zip z kodem (w formie notebooka, lub skryptu/skryptów .py) oraz plikiem .csv z predykcjami na zbiorze test_data.csv.\n",
    "W pliku z predykcjami powinna się znajdować dokładnie jedna kolumna, oznaczająca przewidywaną przez Państwa klasę ceny mieszkania (0 <- cheap, 1 <- average, 2 <- expensive).\n",
    "Końcowe wyniki obliczał będę w oparciu o średnią dokładność dla każdej klasy. Proszę zwrócić uwagę na fakt, że klasy są mocno niezbalansowane!\n",
    "Koniecznie proszę sprawdzić format zwracanych przez Państwa predykcji (tyle predykcji ile elementów w zbiorze testowym, brak nagłówków, jedna kolumna, itd.)\n",
    "Bardzo proszę nazywać wszystkie pliki nazwiskami autorów (najlepiej alfabetycznie), lub nazwą zespołu. Nazwę głównego archiwum zip proszę dodatkowo rozpocząć od przedrostka poniedzialek_ lub piatek_ (nie pon/pia), proszę też nie umieszczać plików w dodatkowych podfolderach tylko bezpośrednio .\n",
    "W MS ​Teams wszystkim przydzieliłem zadanie, ale bardzo proszę, żeby tylko jeden (dowolny) członek zespołu je zwrócił.\n",
    "W razie pytań zapraszam do korespondencji lub na konsultacje."
   ],
   "metadata": {
    "collapsed": false,
    "pycharm": {
     "name": "#%% md\n"
    }
   }
  },
  {
   "cell_type": "code",
   "execution_count": 330,
   "outputs": [],
   "source": [
    "import pandas as pd\n",
    "import numpy as np\n",
    "import statsmodels.formula.api as smf\n",
    "\n",
    "import matplotlib.pyplot as plt\n",
    "import seaborn as sns"
   ],
   "metadata": {
    "collapsed": false,
    "pycharm": {
     "name": "#%%\n"
    }
   }
  },
  {
   "cell_type": "markdown",
   "source": [
    "## Read data"
   ],
   "metadata": {
    "collapsed": false,
    "pycharm": {
     "name": "#%% md\n"
    }
   }
  },
  {
   "cell_type": "code",
   "execution_count": 331,
   "outputs": [],
   "source": [
    "train = pd.read_csv(\"data/train_data.csv\")\n",
    "test = pd.read_csv(\"data/test_data.csv\")"
   ],
   "metadata": {
    "collapsed": false,
    "pycharm": {
     "name": "#%%\n"
    }
   }
  },
  {
   "cell_type": "markdown",
   "source": [
    "## Preprocess data\n",
    "\n",
    "1. Recognize missing data\n",
    "2. Feature engineering\n",
    "3. Encode SalePrice into 3 classes\n",
    "4. Identify numerical and categorical columns\n",
    "5. Standardize numerical columns\n",
    "6. Encode categorical data"
   ],
   "metadata": {
    "collapsed": false,
    "pycharm": {
     "name": "#%% md\n"
    }
   }
  },
  {
   "cell_type": "markdown",
   "source": [
    "## Missing data"
   ],
   "metadata": {
    "collapsed": false,
    "pycharm": {
     "name": "#%% md\n"
    }
   }
  },
  {
   "cell_type": "code",
   "execution_count": 332,
   "outputs": [
    {
     "data": {
      "text/plain": "False"
     },
     "execution_count": 332,
     "metadata": {},
     "output_type": "execute_result"
    }
   ],
   "source": [
    "train.isna().all(axis=0).any()"
   ],
   "metadata": {
    "collapsed": false,
    "pycharm": {
     "name": "#%%\n"
    }
   }
  },
  {
   "cell_type": "code",
   "execution_count": 333,
   "outputs": [
    {
     "data": {
      "text/plain": "False"
     },
     "execution_count": 333,
     "metadata": {},
     "output_type": "execute_result"
    }
   ],
   "source": [
    "test.isna().all(axis=0).any()"
   ],
   "metadata": {
    "collapsed": false,
    "pycharm": {
     "name": "#%%\n"
    }
   }
  },
  {
   "cell_type": "markdown",
   "source": [
    "## Feature engineering"
   ],
   "metadata": {
    "collapsed": false,
    "pycharm": {
     "name": "#%% md\n"
    }
   }
  },
  {
   "cell_type": "markdown",
   "source": [
    "#### 1. Use YearBuilt to engineer new features.\n",
    "\n",
    "- __Age of the apartment.__\n",
    "Since there is no information when this data was collected, use the earliest value of YearBuilt as a reference for others."
   ],
   "metadata": {
    "collapsed": false,
    "pycharm": {
     "name": "#%% md\n"
    }
   }
  },
  {
   "cell_type": "code",
   "execution_count": 334,
   "outputs": [
    {
     "data": {
      "text/plain": "<Axes: xlabel='ApartmentAge', ylabel='Count'>"
     },
     "execution_count": 334,
     "metadata": {},
     "output_type": "execute_result"
    },
    {
     "data": {
      "text/plain": "<Figure size 640x480 with 1 Axes>",
      "image/png": "[encoded data removed]"
     },
     "metadata": {},
     "output_type": "display_data"
    }
   ],
   "source": [
    "train['ApartmentAge'] = train.YearBuilt.max() - train.YearBuilt\n",
    "sns.histplot(train['ApartmentAge'])\n",
    "\n",
    "test['ApartmentAge'] = test.YearBuilt.max() - test.YearBuilt\n",
    "sns.histplot(test['ApartmentAge'])"
   ],
   "metadata": {
    "collapsed": false,
    "pycharm": {
     "name": "#%%\n"
    }
   }
  },
  {
   "cell_type": "markdown",
   "source": [
    "## Encode SalePrice into 3 classes"
   ],
   "metadata": {
    "collapsed": false,
    "pycharm": {
     "name": "#%% md\n"
    }
   }
  },
  {
   "cell_type": "code",
   "execution_count": 335,
   "outputs": [],
   "source": [
    "def encode_sale_price(df):\n",
    "    label_encoded = np.select(condlist=[\n",
    "        df.SalePrice <= 100000,\n",
    "        (df.SalePrice > 100000) & (df.SalePrice <= 350000),\n",
    "        df.SalePrice > 350000,\n",
    "    ], choicelist=[0, 1, 2])\n",
    "    return pd.get_dummies(label_encoded)"
   ],
   "metadata": {
    "collapsed": false,
    "pycharm": {
     "name": "#%%\n"
    }
   }
  },
  {
   "cell_type": "code",
   "execution_count": 336,
   "outputs": [],
   "source": [
    "train_target = encode_sale_price(train)\n",
    "train.drop(columns=[\"SalePrice\"], inplace=True)"
   ],
   "metadata": {
    "collapsed": false,
    "pycharm": {
     "name": "#%%\n"
    }
   }
  },
  {
   "cell_type": "code",
   "execution_count": 337,
   "outputs": [
    {
     "data": {
      "text/plain": "   0  1  2\n0  0  1  0\n1  1  0  0\n2  1  0  0\n3  0  0  1\n4  1  0  0",
      "text/html": "<div>\n<style scoped>\n    .dataframe tbody tr th:only-of-type {\n        vertical-align: middle;\n    }\n\n    .dataframe tbody tr th {\n        vertical-align: top;\n    }\n\n    .dataframe thead th {\n        text-align: right;\n    }\n</style>\n<table border=\"1\" class=\"dataframe\">\n  <thead>\n    <tr style=\"text-align: right;\">\n      <th></th>\n      <th>0</th>\n      <th>1</th>\n      <th>2</th>\n    </tr>\n  </thead>\n  <tbody>\n    <tr>\n      <th>0</th>\n      <td>0</td>\n      <td>1</td>\n      <td>0</td>\n    </tr>\n    <tr>\n      <th>1</th>\n      <td>1</td>\n      <td>0</td>\n      <td>0</td>\n    </tr>\n    <tr>\n      <th>2</th>\n      <td>1</td>\n      <td>0</td>\n      <td>0</td>\n    </tr>\n    <tr>\n      <th>3</th>\n      <td>0</td>\n      <td>0</td>\n      <td>1</td>\n    </tr>\n    <tr>\n      <th>4</th>\n      <td>1</td>\n      <td>0</td>\n      <td>0</td>\n    </tr>\n  </tbody>\n</table>\n</div>"
     },
     "execution_count": 337,
     "metadata": {},
     "output_type": "execute_result"
    }
   ],
   "source": [
    "train_target.iloc[:5, :]"
   ],
   "metadata": {
    "collapsed": false,
    "pycharm": {
     "name": "#%%\n"
    }
   }
  },
  {
   "cell_type": "markdown",
   "source": [
    "## Identify numerical and categorical columns"
   ],
   "metadata": {
    "collapsed": false,
    "pycharm": {
     "name": "#%% md\n"
    }
   }
  },
  {
   "cell_type": "code",
   "execution_count": 338,
   "outputs": [
    {
     "data": {
      "text/plain": "['HallwayType',\n 'HeatingType',\n 'AptManageType',\n 'TimeToBusStop',\n 'TimeToSubway',\n 'SubwayStation']"
     },
     "execution_count": 338,
     "metadata": {},
     "output_type": "execute_result"
    }
   ],
   "source": [
    "categorical_cols = list(train.select_dtypes(include=['object', 'category']).columns)\n",
    "categorical_cols"
   ],
   "metadata": {
    "collapsed": false,
    "pycharm": {
     "name": "#%%\n"
    }
   }
  },
  {
   "cell_type": "code",
   "execution_count": 339,
   "outputs": [
    {
     "data": {
      "text/plain": "YearBuilt                      int64\nSize(sqf)                      int64\nFloor                          int64\nHallwayType                   object\nHeatingType                   object\nAptManageType                 object\nN_Parkinglot(Ground)         float64\nN_Parkinglot(Basement)       float64\nTimeToBusStop                 object\nTimeToSubway                  object\nN_manager                    float64\nN_elevators                  float64\nSubwayStation                 object\nN_FacilitiesInApt              int64\nN_FacilitiesNearBy(Total)    float64\nN_SchoolNearBy(Total)        float64\nApartmentAge                   int64\ndtype: object"
     },
     "execution_count": 339,
     "metadata": {},
     "output_type": "execute_result"
    }
   ],
   "source": [
    "train.dtypes"
   ],
   "metadata": {
    "collapsed": false,
    "pycharm": {
     "name": "#%%\n"
    }
   }
  },
  {
   "cell_type": "markdown",
   "source": [
    "????? Add __Floor__ to categorical columns"
   ],
   "metadata": {
    "collapsed": false,
    "pycharm": {
     "name": "#%% md\n"
    }
   }
  },
  {
   "cell_type": "code",
   "execution_count": 340,
   "outputs": [],
   "source": [
    "# ????? REMOVE\n",
    "# categorical_cols += [\"Floor\"]\n",
    "# train.Floor = train.Floor.astype(\"object\")\n",
    "# categorical_cols"
   ],
   "metadata": {
    "collapsed": false,
    "pycharm": {
     "name": "#%%\n"
    }
   }
  },
  {
   "cell_type": "code",
   "execution_count": 341,
   "outputs": [],
   "source": [
    "train_categorical_data = pd.get_dummies(train[categorical_cols])\n",
    "test_categorical_data = pd.get_dummies(test[categorical_cols])"
   ],
   "metadata": {
    "collapsed": false,
    "pycharm": {
     "name": "#%%\n"
    }
   }
  },
  {
   "cell_type": "code",
   "execution_count": 342,
   "outputs": [
    {
     "data": {
      "text/plain": "   HallwayType_corridor  HallwayType_mixed  HallwayType_terraced  \\\n0                     0                  0                     1   \n1                     1                  0                     0   \n2                     1                  0                     0   \n3                     0                  0                     1   \n4                     0                  1                     0   \n\n   HeatingType_central_heating  HeatingType_individual_heating  \\\n0                            0                               1   \n1                            0                               1   \n2                            0                               1   \n3                            0                               1   \n4                            0                               1   \n\n   AptManageType_management_in_trust  AptManageType_self_management  \\\n0                                  1                              0   \n1                                  0                              1   \n2                                  0                              1   \n3                                  1                              0   \n4                                  0                              1   \n\n   TimeToBusStop_0~5min  TimeToBusStop_10min~15min  TimeToBusStop_5min~10min  \\\n0                     0                          0                         1   \n1                     1                          0                         0   \n2                     1                          0                         0   \n3                     1                          0                         0   \n4                     0                          0                         1   \n\n   ...  TimeToSubway_5min~10min  TimeToSubway_no_bus_stop_nearby  \\\n0  ...                        0                                0   \n1  ...                        1                                0   \n2  ...                        1                                0   \n3  ...                        0                                0   \n4  ...                        0                                0   \n\n   SubwayStation_Bangoge  SubwayStation_Banwoldang  \\\n0                      0                         0   \n1                      0                         0   \n2                      0                         0   \n3                      0                         0   \n4                      0                         0   \n\n   SubwayStation_Chil-sung-market  SubwayStation_Daegu  \\\n0                               0                    0   \n1                               0                    1   \n2                               0                    1   \n3                               0                    0   \n4                               0                    0   \n\n   SubwayStation_Kyungbuk_uni_hospital  SubwayStation_Myung-duk  \\\n0                                    1                        0   \n1                                    0                        0   \n2                                    0                        0   \n3                                    0                        0   \n4                                    0                        1   \n\n   SubwayStation_Sin-nam  SubwayStation_no_subway_nearby  \n0                      0                               0  \n1                      0                               0  \n2                      0                               0  \n3                      1                               0  \n4                      0                               0  \n\n[5 rows x 23 columns]",
      "text/html": "<div>\n<style scoped>\n    .dataframe tbody tr th:only-of-type {\n        vertical-align: middle;\n    }\n\n    .dataframe tbody tr th {\n        vertical-align: top;\n    }\n\n    .dataframe thead th {\n        text-align: right;\n    }\n</style>\n<table border=\"1\" class=\"dataframe\">\n  <thead>\n    <tr style=\"text-align: right;\">\n      <th></th>\n      <th>HallwayType_corridor</th>\n      <th>HallwayType_mixed</th>\n      <th>HallwayType_terraced</th>\n      <th>HeatingType_central_heating</th>\n      <th>HeatingType_individual_heating</th>\n      <th>AptManageType_management_in_trust</th>\n      <th>AptManageType_self_management</th>\n      <th>TimeToBusStop_0~5min</th>\n      <th>TimeToBusStop_10min~15min</th>\n      <th>TimeToBusStop_5min~10min</th>\n      <th>...</th>\n      <th>TimeToSubway_5min~10min</th>\n      <th>TimeToSubway_no_bus_stop_nearby</th>\n      <th>SubwayStation_Bangoge</th>\n      <th>SubwayStation_Banwoldang</th>\n      <th>SubwayStation_Chil-sung-market</th>\n      <th>SubwayStation_Daegu</th>\n      <th>SubwayStation_Kyungbuk_uni_hospital</th>\n      <th>SubwayStation_Myung-duk</th>\n      <th>SubwayStation_Sin-nam</th>\n      <th>SubwayStation_no_subway_nearby</th>\n    </tr>\n  </thead>\n  <tbody>\n    <tr>\n      <th>0</th>\n      <td>0</td>\n      <td>0</td>\n      <td>1</td>\n      <td>0</td>\n      <td>1</td>\n      <td>1</td>\n      <td>0</td>\n      <td>0</td>\n      <td>0</td>\n      <td>1</td>\n      <td>...</td>\n      <td>0</td>\n      <td>0</td>\n      <td>0</td>\n      <td>0</td>\n      <td>0</td>\n      <td>0</td>\n      <td>1</td>\n      <td>0</td>\n      <td>0</td>\n      <td>0</td>\n    </tr>\n    <tr>\n      <th>1</th>\n      <td>1</td>\n      <td>0</td>\n      <td>0</td>\n      <td>0</td>\n      <td>1</td>\n      <td>0</td>\n      <td>1</td>\n      <td>1</td>\n      <td>0</td>\n      <td>0</td>\n      <td>...</td>\n      <td>1</td>\n      <td>0</td>\n      <td>0</td>\n      <td>0</td>\n      <td>0</td>\n      <td>1</td>\n      <td>0</td>\n      <td>0</td>\n      <td>0</td>\n      <td>0</td>\n    </tr>\n    <tr>\n      <th>2</th>\n      <td>1</td>\n      <td>0</td>\n      <td>0</td>\n      <td>0</td>\n      <td>1</td>\n      <td>0</td>\n      <td>1</td>\n      <td>1</td>\n      <td>0</td>\n      <td>0</td>\n      <td>...</td>\n      <td>1</td>\n      <td>0</td>\n      <td>0</td>\n      <td>0</td>\n      <td>0</td>\n      <td>1</td>\n      <td>0</td>\n      <td>0</td>\n      <td>0</td>\n      <td>0</td>\n    </tr>\n    <tr>\n      <th>3</th>\n      <td>0</td>\n      <td>0</td>\n      <td>1</td>\n      <td>0</td>\n      <td>1</td>\n      <td>1</td>\n      <td>0</td>\n      <td>1</td>\n      <td>0</td>\n      <td>0</td>\n      <td>...</td>\n      <td>0</td>\n      <td>0</td>\n      <td>0</td>\n      <td>0</td>\n      <td>0</td>\n      <td>0</td>\n      <td>0</td>\n      <td>0</td>\n      <td>1</td>\n      <td>0</td>\n    </tr>\n    <tr>\n      <th>4</th>\n      <td>0</td>\n      <td>1</td>\n      <td>0</td>\n      <td>0</td>\n      <td>1</td>\n      <td>0</td>\n      <td>1</td>\n      <td>0</td>\n      <td>0</td>\n      <td>1</td>\n      <td>...</td>\n      <td>0</td>\n      <td>0</td>\n      <td>0</td>\n      <td>0</td>\n      <td>0</td>\n      <td>0</td>\n      <td>0</td>\n      <td>1</td>\n      <td>0</td>\n      <td>0</td>\n    </tr>\n  </tbody>\n</table>\n<p>5 rows × 23 columns</p>\n</div>"
     },
     "execution_count": 342,
     "metadata": {},
     "output_type": "execute_result"
    }
   ],
   "source": [
    "train_categorical_data.head()"
   ],
   "metadata": {
    "collapsed": false,
    "pycharm": {
     "name": "#%%\n"
    }
   }
  },
  {
   "cell_type": "markdown",
   "source": [
    "# Standardize numerical columns"
   ],
   "metadata": {
    "collapsed": false,
    "pycharm": {
     "name": "#%% md\n"
    }
   }
  },
  {
   "cell_type": "code",
   "execution_count": 343,
   "outputs": [],
   "source": [
    "from sklearn.preprocessing import StandardScaler"
   ],
   "metadata": {
    "collapsed": false,
    "pycharm": {
     "name": "#%%\n"
    }
   }
  },
  {
   "cell_type": "code",
   "execution_count": 344,
   "outputs": [
    {
     "name": "stdout",
     "output_type": "stream",
     "text": [
      "{'N_FacilitiesNearBy(Total)', 'N_FacilitiesInApt', 'N_SchoolNearBy(Total)', 'N_manager', 'ApartmentAge', 'N_Parkinglot(Ground)', 'Floor', 'Size(sqf)', 'YearBuilt', 'N_elevators', 'N_Parkinglot(Basement)'}\n"
     ]
    },
    {
     "data": {
      "text/plain": "   N_FacilitiesNearBy(Total)  N_FacilitiesInApt  N_SchoolNearBy(Total)  \\\n0                        6.0                  5                    9.0   \n1                       12.0                  3                    4.0   \n2                       12.0                  3                    4.0   \n3                        3.0                  5                    7.0   \n4                        9.0                  3                   14.0   \n\n   N_manager  ApartmentAge  N_Parkinglot(Ground)  Floor  Size(sqf)  YearBuilt  \\\n0        3.0             9                 111.0      3        814       2006   \n1        2.0            30                  80.0      8        587       1985   \n2        2.0            30                  80.0      6        587       1985   \n3        5.0             9                 249.0      8       2056       2006   \n4        4.0            23                 142.0      2        644       1992   \n\n   N_elevators  N_Parkinglot(Basement)  \n0          0.0                   184.0  \n1          2.0                    76.0  \n2          2.0                    76.0  \n3         11.0                   536.0  \n4          8.0                    79.0  ",
      "text/html": "<div>\n<style scoped>\n    .dataframe tbody tr th:only-of-type {\n        vertical-align: middle;\n    }\n\n    .dataframe tbody tr th {\n        vertical-align: top;\n    }\n\n    .dataframe thead th {\n        text-align: right;\n    }\n</style>\n<table border=\"1\" class=\"dataframe\">\n  <thead>\n    <tr style=\"text-align: right;\">\n      <th></th>\n      <th>N_FacilitiesNearBy(Total)</th>\n      <th>N_FacilitiesInApt</th>\n      <th>N_SchoolNearBy(Total)</th>\n      <th>N_manager</th>\n      <th>ApartmentAge</th>\n      <th>N_Parkinglot(Ground)</th>\n      <th>Floor</th>\n      <th>Size(sqf)</th>\n      <th>YearBuilt</th>\n      <th>N_elevators</th>\n      <th>N_Parkinglot(Basement)</th>\n    </tr>\n  </thead>\n  <tbody>\n    <tr>\n      <th>0</th>\n      <td>6.0</td>\n      <td>5</td>\n      <td>9.0</td>\n      <td>3.0</td>\n      <td>9</td>\n      <td>111.0</td>\n      <td>3</td>\n      <td>814</td>\n      <td>2006</td>\n      <td>0.0</td>\n      <td>184.0</td>\n    </tr>\n    <tr>\n      <th>1</th>\n      <td>12.0</td>\n      <td>3</td>\n      <td>4.0</td>\n      <td>2.0</td>\n      <td>30</td>\n      <td>80.0</td>\n      <td>8</td>\n      <td>587</td>\n      <td>1985</td>\n      <td>2.0</td>\n      <td>76.0</td>\n    </tr>\n    <tr>\n      <th>2</th>\n      <td>12.0</td>\n      <td>3</td>\n      <td>4.0</td>\n      <td>2.0</td>\n      <td>30</td>\n      <td>80.0</td>\n      <td>6</td>\n      <td>587</td>\n      <td>1985</td>\n      <td>2.0</td>\n      <td>76.0</td>\n    </tr>\n    <tr>\n      <th>3</th>\n      <td>3.0</td>\n      <td>5</td>\n      <td>7.0</td>\n      <td>5.0</td>\n      <td>9</td>\n      <td>249.0</td>\n      <td>8</td>\n      <td>2056</td>\n      <td>2006</td>\n      <td>11.0</td>\n      <td>536.0</td>\n    </tr>\n    <tr>\n      <th>4</th>\n      <td>9.0</td>\n      <td>3</td>\n      <td>14.0</td>\n      <td>4.0</td>\n      <td>23</td>\n      <td>142.0</td>\n      <td>2</td>\n      <td>644</td>\n      <td>1992</td>\n      <td>8.0</td>\n      <td>79.0</td>\n    </tr>\n  </tbody>\n</table>\n</div>"
     },
     "execution_count": 344,
     "metadata": {},
     "output_type": "execute_result"
    }
   ],
   "source": [
    "numerical_columns = set(train.columns) - set(categorical_cols); print(numerical_columns)\n",
    "train_numerical_data = train[list(numerical_columns)]\n",
    "test_numerical_data = test[list(numerical_columns)]\n",
    "train_numerical_data.head()"
   ],
   "metadata": {
    "collapsed": false,
    "pycharm": {
     "name": "#%%\n"
    }
   }
  },
  {
   "cell_type": "code",
   "execution_count": 345,
   "outputs": [],
   "source": [
    "scaler = StandardScaler()\n",
    "train_numerical_data = pd.DataFrame(scaler.fit_transform(train_numerical_data), columns=train_numerical_data.columns)\n",
    "test_numerical_data = pd.DataFrame(scaler.transform(test_numerical_data), columns=test_numerical_data.columns)"
   ],
   "metadata": {
    "collapsed": false,
    "pycharm": {
     "name": "#%%\n"
    }
   }
  },
  {
   "cell_type": "markdown",
   "source": [
    "## Datasets"
   ],
   "metadata": {
    "collapsed": false,
    "pycharm": {
     "name": "#%% md\n"
    }
   }
  },
  {
   "cell_type": "code",
   "execution_count": 346,
   "outputs": [],
   "source": [
    "import torch, torchvision\n",
    "from torchvision import transforms\n",
    "import torch.nn as nn\n",
    "import torch.optim as optim\n",
    "import torch.functional as F\n",
    "\n",
    "import torch.utils.data as data\n",
    "from sklearn.model_selection import train_test_split"
   ],
   "metadata": {
    "collapsed": false,
    "pycharm": {
     "name": "#%%\n"
    }
   }
  },
  {
   "cell_type": "code",
   "execution_count": 347,
   "outputs": [],
   "source": [
    "train_indices = train.sample(frac=0.8, random_state=121).index"
   ],
   "metadata": {
    "collapsed": false,
    "pycharm": {
     "name": "#%%\n"
    }
   }
  },
  {
   "cell_type": "code",
   "execution_count": 348,
   "outputs": [],
   "source": [
    "train_numerical_data_torch = torch.from_numpy(train_numerical_data.values[train_indices,:]).float()\n",
    "train_categorical_data_torch = torch.from_numpy(train_categorical_data.values[train_indices, :]).float()\n",
    "train_targets_torch = torch.from_numpy(train_target.values[train_indices]).float()\n",
    "\n",
    "test_numerical_data_torch = torch.from_numpy(train_numerical_data.values[~train_indices,:]).float()\n",
    "test_categorical_data_torch = torch.from_numpy(train_categorical_data.values[~train_indices,:]).float()\n",
    "test_targets_torch = torch.from_numpy(train_target.values[~train_indices]).float()\n",
    "\n",
    "train_dataset = data.TensorDataset(train_numerical_data_torch, train_categorical_data_torch, train_targets_torch)\n",
    "test_dataset = data.TensorDataset(test_numerical_data_torch, test_categorical_data_torch, test_targets_torch)"
   ],
   "metadata": {
    "collapsed": false,
    "pycharm": {
     "name": "#%%\n"
    }
   }
  },
  {
   "cell_type": "code",
   "execution_count": 350,
   "outputs": [
    {
     "data": {
      "text/plain": "(<torch.utils.data.dataset.TensorDataset at 0x15ec5572ac0>,\n <torch.utils.data.dataset.TensorDataset at 0x15ec568e550>)"
     },
     "execution_count": 350,
     "metadata": {},
     "output_type": "execute_result"
    }
   ],
   "source": [
    "train_dataset, test_dataset"
   ],
   "metadata": {
    "collapsed": false,
    "pycharm": {
     "name": "#%%\n"
    }
   }
  }
 ],
 "metadata": {
  "kernelspec": {
   "display_name": "Python 3",
   "language": "python",
   "name": "python3"
  },
  "language_info": {
   "codemirror_mode": {
    "name": "ipython",
    "version": 2
   },
   "file_extension": ".py",
   "mimetype": "text/x-python",
   "name": "python",
   "nbconvert_exporter": "python",
   "pygments_lexer": "ipython2",
   "version": "2.7.6"
  }
 },
 "nbformat": 4,
 "nbformat_minor": 0
}